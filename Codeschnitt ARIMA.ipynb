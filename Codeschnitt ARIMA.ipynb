{
 "cells": [
  {
   "cell_type": "code",
   "execution_count": 1,
   "metadata": {},
   "outputs": [],
   "source": [
    "import pandas as pd\n",
    "df = pd.read_excel(\"kijangemas_quelle.xlsx\")"
   ]
  },
  {
   "cell_type": "code",
   "execution_count": 2,
   "metadata": {},
   "outputs": [],
   "source": [
    "import matplotlib.pyplot as plt\n",
    "import seaborn as sns\n",
    "import numpy as np\n",
    "sns.set()"
   ]
  },
  {
   "cell_type": "code",
   "execution_count": 3,
   "metadata": {},
   "outputs": [
    {
     "data": {
      "text/plain": [
       "(689, 689)"
      ]
     },
     "execution_count": 3,
     "metadata": {},
     "output_type": "execute_result"
    }
   ],
   "source": [
    "timestamp, selling = [], []  \n",
    "timestamp = pd.DatetimeIndex(df['Date']).date\n",
    "selling = df[\"1 oz Sell\"]\n",
    "len(timestamp), len(selling) # (689, 689)"
   ]
  },
  {
   "cell_type": "code",
   "execution_count": 4,
   "metadata": {},
   "outputs": [
    {
     "data": {
      "text/html": [
       "<div>\n",
       "<style scoped>\n",
       "    .dataframe tbody tr th:only-of-type {\n",
       "        vertical-align: middle;\n",
       "    }\n",
       "\n",
       "    .dataframe tbody tr th {\n",
       "        vertical-align: top;\n",
       "    }\n",
       "\n",
       "    .dataframe thead th {\n",
       "        text-align: right;\n",
       "    }\n",
       "</style>\n",
       "<table border=\"1\" class=\"dataframe\">\n",
       "  <thead>\n",
       "    <tr style=\"text-align: right;\">\n",
       "      <th></th>\n",
       "      <th>timestamp</th>\n",
       "      <th>selling</th>\n",
       "    </tr>\n",
       "  </thead>\n",
       "  <tbody>\n",
       "    <tr>\n",
       "      <th>0</th>\n",
       "      <td>2018-01-03</td>\n",
       "      <td>5632.0</td>\n",
       "    </tr>\n",
       "    <tr>\n",
       "      <th>1</th>\n",
       "      <td>2018-01-04</td>\n",
       "      <td>5579.0</td>\n",
       "    </tr>\n",
       "    <tr>\n",
       "      <th>2</th>\n",
       "      <td>2018-01-05</td>\n",
       "      <td>5608.0</td>\n",
       "    </tr>\n",
       "    <tr>\n",
       "      <th>3</th>\n",
       "      <td>2018-01-08</td>\n",
       "      <td>5585.0</td>\n",
       "    </tr>\n",
       "    <tr>\n",
       "      <th>4</th>\n",
       "      <td>2018-01-09</td>\n",
       "      <td>5592.0</td>\n",
       "    </tr>\n",
       "  </tbody>\n",
       "</table>\n",
       "</div>"
      ],
      "text/plain": [
       "    timestamp  selling\n",
       "0  2018-01-03   5632.0\n",
       "1  2018-01-04   5579.0\n",
       "2  2018-01-05   5608.0\n",
       "3  2018-01-08   5585.0\n",
       "4  2018-01-09   5592.0"
      ]
     },
     "execution_count": 4,
     "metadata": {},
     "output_type": "execute_result"
    }
   ],
   "source": [
    "df2 = pd.DataFrame({'timestamp': timestamp, 'selling': selling})\n",
    "df2.head()"
   ]
  },
  {
   "cell_type": "code",
   "execution_count": 5,
   "metadata": {},
   "outputs": [],
   "source": [
    "# Our model should forecast 61 future days ahead\n",
    "future_count = 62\n",
    "len(selling) - future_count # 627\n",
    "train_selling = selling[: len(selling) - future_count] \n",
    "test_selling = selling[len(selling) - future_count :]"
   ]
  },
  {
   "cell_type": "code",
   "execution_count": 6,
   "metadata": {},
   "outputs": [
    {
     "name": "stdout",
     "output_type": "stream",
     "text": [
      "Wall time: 130 ms\n"
     ]
    }
   ],
   "source": [
    "# Linear regression\n",
    "from sklearn.linear_model import LinearRegression\n",
    "linear_regression = LinearRegression().fit(\n",
    "    np.arange(len(train_selling)).reshape((-1, 1)), train_selling\n",
    ")\n",
    "linear_future = linear_regression.predict(\n",
    "    np.arange(len(train_selling) + future_count).reshape((-1, 1))\n",
    ")"
   ]
  },
  {
   "cell_type": "code",
   "execution_count": 7,
   "metadata": {},
   "outputs": [],
   "source": [
    "# Statsmodels allows users to explore data, estimate statistical models, and perform statistical tests\n",
    "import statsmodels.api as sm \n",
    "\n",
    "# The sklearn.preprocessing package provides several common utility functions and transformer classes \n",
    "# to change raw feature vectors into a representation that is more suitable for the downstream estimators\n",
    "# MinMaxScaler rescales the data set such that all feature values are in the given range\n",
    "from sklearn.preprocessing import MinMaxScaler\n",
    "\n",
    "# Importing the product tool which computes the cartesian product of input iterables\n",
    "from itertools import product"
   ]
  },
  {
   "cell_type": "code",
   "execution_count": 8,
   "metadata": {},
   "outputs": [
    {
     "data": {
      "text/plain": [
       "16"
      ]
     },
     "execution_count": 8,
     "metadata": {},
     "output_type": "execute_result"
    }
   ],
   "source": [
    "# SARIMA = Seasonal ARIMA = Extension of ARIMA that explicitly supports univariate time series data with a seasonal component\n",
    "Qs = range(0, 2)     # Seasonal moving average order\n",
    "qs = range(0, 2)     # Trend moving average order\n",
    "Ps = range(0, 2)     # Seasonal autoregressive order\n",
    "ps = range(0, 2)     # Trend autoregression order\n",
    "D = 1                # Seasonal difference order\n",
    "d = 1                # Trend difference order\n",
    "parameters = product(ps, qs, Ps, Qs)\n",
    "parameters_list = list(parameters)\n",
    "len(parameters_list) # 16"
   ]
  },
  {
   "cell_type": "code",
   "execution_count": 9,
   "metadata": {},
   "outputs": [],
   "source": [
    "# Problem with ARIMA: We cannot feed a high value, so we need to scale; here: minmax scaling\n",
    "\n",
    "# fit() computes the minimum and maximum to be used for later scaling\n",
    "minmax = MinMaxScaler().fit(np.array([train_selling]).T)\n",
    "\n",
    "# transform(X) scales features of X according to feature_range\n",
    "minmax_values = minmax.transform(np.array([train_selling]).T)"
   ]
  },
  {
   "cell_type": "code",
   "execution_count": 10,
   "metadata": {
    "scrolled": true
   },
   "outputs": [
    {
     "name": "stderr",
     "output_type": "stream",
     "text": [
      "C:\\Users\\Manh Tuan Nguyen\\anaconda3\\lib\\site-packages\\statsmodels\\base\\model.py:567: ConvergenceWarning: Maximum Likelihood optimization failed to converge. Check mle_retvals\n",
      "  warn(\"Maximum Likelihood optimization failed to converge. \"\n",
      "C:\\Users\\Manh Tuan Nguyen\\anaconda3\\lib\\site-packages\\statsmodels\\base\\model.py:567: ConvergenceWarning: Maximum Likelihood optimization failed to converge. Check mle_retvals\n",
      "  warn(\"Maximum Likelihood optimization failed to converge. \"\n",
      "C:\\Users\\Manh Tuan Nguyen\\anaconda3\\lib\\site-packages\\statsmodels\\base\\model.py:567: ConvergenceWarning: Maximum Likelihood optimization failed to converge. Check mle_retvals\n",
      "  warn(\"Maximum Likelihood optimization failed to converge. \"\n",
      "C:\\Users\\Manh Tuan Nguyen\\anaconda3\\lib\\site-packages\\statsmodels\\base\\model.py:567: ConvergenceWarning: Maximum Likelihood optimization failed to converge. Check mle_retvals\n",
      "  warn(\"Maximum Likelihood optimization failed to converge. \"\n"
     ]
    },
    {
     "name": "stdout",
     "output_type": "stream",
     "text": [
      "Wall time: 15min 29s\n"
     ]
    },
    {
     "data": {
      "text/plain": [
       "-2937.089528205006"
      ]
     },
     "execution_count": 10,
     "metadata": {},
     "output_type": "execute_result"
    }
   ],
   "source": [
    "# Searching for the best pairs of parameters where AIC is the lowest \n",
    "best_aic = float(\"inf\")\n",
    "for param in parameters_list:\n",
    "    try:\n",
    "        model = sm.tsa.statespace.SARIMAX(\n",
    "            minmax_values[:, 0],\n",
    "            order = (param[0], d, param[1]),\n",
    "            seasonal_order = (param[2], D, param[3], future_count),\n",
    "        ).fit(disp = -1)\n",
    "    except Exception as e:\n",
    "        print(e)\n",
    "        continue\n",
    "    aic = model.aic\n",
    "    if aic < best_aic and aic:\n",
    "        best_model = model\n",
    "        best_aic = aic\n",
    "best_aic # -2937.089528205006\n",
    "\n",
    "# Dieser Code nimmt etwa 20 Minuten Zeit in Anspruch! \n",
    "# ConvergenceWarning wird mehrfach ausgegeben, wir ignorieren dies einfach."
   ]
  },
  {
   "cell_type": "code",
   "execution_count": 11,
   "metadata": {},
   "outputs": [
    {
     "name": "stdout",
     "output_type": "stream",
     "text": [
      "                                      SARIMAX Results                                       \n",
      "============================================================================================\n",
      "Dep. Variable:                                    y   No. Observations:                  627\n",
      "Model:             SARIMAX(0, 1, 0)x(0, 1, [1], 62)   Log Likelihood                1470.545\n",
      "Date:                              Wed, 02 Dec 2020   AIC                          -2937.090\n",
      "Time:                                      16:05:35   BIC                          -2928.419\n",
      "Sample:                                           0   HQIC                         -2933.705\n",
      "                                              - 627                                         \n",
      "Covariance Type:                                opg                                         \n",
      "==============================================================================\n",
      "                 coef    std err          z      P>|z|      [0.025      0.975]\n",
      "------------------------------------------------------------------------------\n",
      "ma.S.L62      -0.7663      0.037    -20.529      0.000      -0.839      -0.693\n",
      "sigma2         0.0003   9.41e-06     30.701      0.000       0.000       0.000\n",
      "===================================================================================\n",
      "Ljung-Box (Q):                       80.34   Jarque-Bera (JB):               580.93\n",
      "Prob(Q):                              0.00   Prob(JB):                         0.00\n",
      "Heteroskedasticity (H):               7.42   Skew:                             0.39\n",
      "Prob(H) (two-sided):                  0.00   Kurtosis:                         7.91\n",
      "===================================================================================\n",
      "\n",
      "Warnings:\n",
      "[1] Covariance matrix calculated using the outer product of gradients (complex-step).\n"
     ]
    }
   ],
   "source": [
    "print(best_model.summary()) "
   ]
  },
  {
   "cell_type": "code",
   "execution_count": 12,
   "metadata": {},
   "outputs": [],
   "source": [
    "# Computing prediction results\n",
    "arima_future = best_model.get_prediction(\n",
    "    start = 0, end = len(train_selling) + future_count - 1\n",
    ")\n",
    "\n",
    "# inverse_transform(X): Undo the scaling of X according to feature_range\n",
    "arima_future = minmax.inverse_transform(\n",
    "    np.expand_dims(arima_future.predicted_mean, axis = 1)\n",
    ")[:, 0]"
   ]
  },
  {
   "cell_type": "code",
   "execution_count": 13,
   "metadata": {},
   "outputs": [
    {
     "data": {
      "image/png": "[encoded data removed]",
      "text/plain": [
       "<Figure size 1080x360 with 1 Axes>"
      ]
     },
     "metadata": {},
     "output_type": "display_data"
    }
   ],
   "source": [
    "fig, ax = plt.subplots(figsize = (15, 5))\n",
    "ax.plot(selling, label = 'test trend')\n",
    "ax.plot(train_selling, label = 'train trend')\n",
    "ax.plot(linear_future, label = 'forecast linear regression')\n",
    "ax.plot(arima_future, label = 'forecast ARIMA')\n",
    "plt.xticks(\n",
    "    np.arange(len(timestamp))[::20],\n",
    "    np.arange(len(timestamp))[::20],\n",
    "    rotation = '45',\n",
    ")\n",
    "plt.legend()\n",
    "plt.show()"
   ]
  },
  {
   "cell_type": "code",
   "execution_count": 14,
   "metadata": {},
   "outputs": [],
   "source": [
    "# Coefficient of Determination R squared (Bestimmtheitsmaß)\n",
    "from sklearn.metrics import r2_score\n",
    "\n",
    "# Pearson and Spearman Correlation\n",
    "from scipy.stats import pearsonr, spearmanr"
   ]
  },
  {
   "cell_type": "code",
   "execution_count": 15,
   "metadata": {},
   "outputs": [],
   "source": [
    "# Accuracy based on correlation coefficient, higher is better!\n",
    "def calculate_accuracy(real, predict):\n",
    "    r2 = r2_score(real, predict)\n",
    "    if r2 < 0:\n",
    "        r2 = 0\n",
    "\n",
    "    def change_percentage(val): \n",
    "    # minmax, we know that correlation is between -1 and 1\n",
    "        if val > 0:\n",
    "            return val\n",
    "        else:\n",
    "            return val + 1\n",
    "\n",
    "    pearson = pearsonr(real, predict)[0]\n",
    "    spearman = spearmanr(real, predict)[0]\n",
    "    pearson = change_percentage(pearson)\n",
    "    spearman = change_percentage(spearman)\n",
    "    return {\n",
    "        'r2': r2 * 100,\n",
    "        'pearson': pearson * 100,\n",
    "        'spearman': spearman * 100,\n",
    "    }"
   ]
  },
  {
   "cell_type": "code",
   "execution_count": 16,
   "metadata": {},
   "outputs": [],
   "source": [
    "# Distance error for mse and rmse, lower is better!\n",
    "def calculate_distance(real, predict):\n",
    "    mse = ((real - predict) ** 2).mean()\n",
    "    rmse = np.sqrt(mse)\n",
    "    return {'mse': mse, 'rmse': rmse}"
   ]
  },
  {
   "cell_type": "code",
   "execution_count": 17,
   "metadata": {},
   "outputs": [],
   "source": [
    "# Validating based on training timestamps\n",
    "arima_cut = arima_future[: len(train_selling)]"
   ]
  },
  {
   "cell_type": "code",
   "execution_count": 18,
   "metadata": {},
   "outputs": [
    {
     "data": {
      "text/plain": [
       "{'mse': 4496.26783942488, 'rmse': 67.05421567228179}"
      ]
     },
     "execution_count": 18,
     "metadata": {},
     "output_type": "execute_result"
    }
   ],
   "source": [
    "# Checking distance error using Mean Square Error and Root Mean Square Error\n",
    "calculate_distance(train_selling, arima_cut)"
   ]
  },
  {
   "cell_type": "code",
   "execution_count": 19,
   "metadata": {},
   "outputs": [
    {
     "data": {
      "text/plain": [
       "{'r2': 99.43615750421054,\n",
       " 'pearson': 99.71892132447782,\n",
       " 'spearman': 99.02293526972935}"
      ]
     },
     "execution_count": 19,
     "metadata": {},
     "output_type": "execute_result"
    }
   ],
   "source": [
    "# Checking accuracy \n",
    "calculate_accuracy(train_selling, arima_cut)"
   ]
  },
  {
   "cell_type": "code",
   "execution_count": 20,
   "metadata": {},
   "outputs": [],
   "source": [
    "# Validating based on test timestamps\n",
    "arima_cut = arima_future[len(train_selling) :]"
   ]
  },
  {
   "cell_type": "code",
   "execution_count": 21,
   "metadata": {},
   "outputs": [
    {
     "data": {
      "text/plain": [
       "{'mse': 322071.2735898548, 'rmse': 567.5132364886786}"
      ]
     },
     "execution_count": 21,
     "metadata": {},
     "output_type": "execute_result"
    }
   ],
   "source": [
    "# Checking distance error using Mean Square Error and Root Mean Square Error\n",
    "calculate_distance(test_selling, arima_cut)"
   ]
  },
  {
   "cell_type": "code",
   "execution_count": 22,
   "metadata": {},
   "outputs": [
    {
     "data": {
      "text/plain": [
       "{'r2': 0, 'pearson': 33.11011965176513, 'spearman': 30.25598403465416}"
      ]
     },
     "execution_count": 22,
     "metadata": {},
     "output_type": "execute_result"
    }
   ],
   "source": [
    "# Checking accuracy\n",
    "calculate_accuracy(test_selling, arima_cut)"
   ]
  }
 ],
 "metadata": {
  "kernelspec": {
   "display_name": "Python 3",
   "language": "python",
   "name": "python3"
  },
  "language_info": {
   "codemirror_mode": {
    "name": "ipython",
    "version": 3
   },
   "file_extension": ".py",
   "mimetype": "text/x-python",
   "name": "python",
   "nbconvert_exporter": "python",
   "pygments_lexer": "ipython3",
   "version": "3.8.3"
  }
 },
 "nbformat": 4,
 "nbformat_minor": 4
}
